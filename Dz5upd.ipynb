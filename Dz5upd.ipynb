{
 "cells": [
  {
   "cell_type": "code",
   "execution_count": 2,
   "metadata": {},
   "outputs": [],
   "source": [
    "documents = [\n",
    "{'type': 'passport', 'number': '2207876234', 'name': 'Василий Гупкин'},\n",
    "{'type': 'invoice', 'number': '11-2', 'name': 'Геннадий Покемонов'},\n",
    "{'type': 'insurance', 'number': '10006', 'name': 'Аристарх Павлов'}\n",
    "]\n",
    "\n",
    "directories = {\n",
    "'1': ['2207876234', '11-2'],\n",
    "'2': ['10006'],\n",
    "'3': []\n",
    "}\n"
   ]
  },
  {
   "cell_type": "code",
   "execution_count": 3,
   "metadata": {},
   "outputs": [],
   "source": [
    "def docum(number):\n",
    "    for doc in documents:\n",
    "        docnum = list(doc.values())\n",
    "        if docnum[1] == number:\n",
    "            return docnum[2]\n",
    "        \n",
    "def searchs(number):\n",
    "    shelf=1\n",
    "    while number not in directories[str(shelf)]:\n",
    "        shelf +=1\n",
    "    return str(shelf)\n",
    "\n",
    "def inform():\n",
    "    shelf =1\n",
    "    resp=[]\n",
    "    for doc in documents:\n",
    "        while doc['number'] not in directories[str(shelf)]:\n",
    "            shelf +=1\n",
    "        print('№',doc['number'], 'тип: ', doc['type'], 'владелец:', doc['name'], 'полка хранения:', shelf)\n",
    "        \n",
    "def adshelf(number):\n",
    "    if number not in  directories.keys():\n",
    "        directories[number] = []\n",
    "    else:\n",
    "        print(\"Такая полка уже существует.\")\n",
    "    return directories.keys()\n",
    "\n",
    "def delshelf(number):\n",
    "    if directories[number] != []:\n",
    "        print(\"На полке есть документа, удалите их перед удалением полки.\")\n",
    "    else:\n",
    "        del(directories[number])\n",
    "        print(\"Полка удалена.\")\n",
    "    return directories.keys()\n",
    "\n",
    "def auto():\n",
    "    if operation == 'p':\n",
    "        number = input('Введите номер документа: ')\n",
    "        if docum(number) == None:\n",
    "            print(\"Документ не найден\")\n",
    "        else:\n",
    "            print('Владелец документа:', docum(number))\n",
    "    elif operation == 's':\n",
    "        number = input('Введите номер документа: ')\n",
    "        if docum(number) == None:\n",
    "            print(\"Документ не найден\")\n",
    "        else:    \n",
    "            print(\"Документ хранится на полке\", searchs(number))\n",
    "    elif operation == 'l':\n",
    "        inform()\n",
    "    elif operation == 'as':\n",
    "        number = input('Введите номер полки: ')\n",
    "        print(\"Текущий перечень полок:\", adshelf(number))\n",
    "    elif operation == 'ds':\n",
    "        number = input('Введите номер полки: ')\n",
    "        if number not in directories.keys():\n",
    "            print('Нет указанной полки')\n",
    "        else:\n",
    "            print(\"Текущий перечень полок:\", delshelf(number))"
   ]
  },
  {
   "cell_type": "code",
   "execution_count": 4,
   "metadata": {},
   "outputs": [
    {
     "name": "stdout",
     "output_type": "stream",
     "text": [
      "Введите код команды: l\n",
      "№ 2207876234 тип:  passport владелец: Василий Гупкин полка хранения: 1\n",
      "№ 11-2 тип:  invoice владелец: Геннадий Покемонов полка хранения: 1\n",
      "№ 10006 тип:  insurance владелец: Аристарх Павлов полка хранения: 2\n",
      "Введите код команды: as\n",
      "Введите номер полки: 4\n",
      "Текущий перечень полок: dict_keys(['1', '2', '3', '4'])\n",
      "Введите код команды: ds\n",
      "Введите номер полки: 4\n",
      "Полка удалена.\n",
      "Текущий перечень полок: dict_keys(['1', '2', '3'])\n",
      "Введите код команды: q\n"
     ]
    }
   ],
   "source": [
    "while True:\n",
    "    operation = input('Введите код команды: ')\n",
    "    if operation == 'q':\n",
    "        break\n",
    "    else:\n",
    "        auto()"
   ]
  },
  {
   "cell_type": "code",
   "execution_count": null,
   "metadata": {},
   "outputs": [],
   "source": []
  }
 ],
 "metadata": {
  "kernelspec": {
   "display_name": "Python 3",
   "language": "python",
   "name": "python3"
  },
  "language_info": {
   "codemirror_mode": {
    "name": "ipython",
    "version": 3
   },
   "file_extension": ".py",
   "mimetype": "text/x-python",
   "name": "python",
   "nbconvert_exporter": "python",
   "pygments_lexer": "ipython3",
   "version": "3.8.5"
  }
 },
 "nbformat": 4,
 "nbformat_minor": 4
}
