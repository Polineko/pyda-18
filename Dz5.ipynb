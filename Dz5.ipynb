{
 "cells": [
  {
   "cell_type": "code",
   "execution_count": null,
   "metadata": {},
   "outputs": [],
   "source": [
    "documents = [\n",
    "{'type': 'passport', 'number': '2207876234', 'name': 'Василий Гупкин'},\n",
    "{'type': 'invoice', 'number': '11-2', 'name': 'Геннадий Покемонов'},\n",
    "{'type': 'insurance', 'number': '10006', 'name': 'Аристарх Павлов'}\n",
    "]\n",
    "\n",
    "directories = {\n",
    "'1': ['2207876234', '11-2'],\n",
    "'2': ['10006'],\n",
    "'3': []\n",
    "}\n",
    "#print(directories.keys())\n",
    "if '4' not in directories.keys():\n",
    "    print (1)"
   ]
  },
  {
   "cell_type": "code",
   "execution_count": 24,
   "metadata": {},
   "outputs": [],
   "source": [
    "def docum(number):\n",
    "    for doc in documents:\n",
    "        docnum = list(doc.values())\n",
    "        if docnum[1] == number:\n",
    "            return docnum[2]\n",
    "        \n",
    "def searchs(number):\n",
    "    shelf=1\n",
    "    while number not in directories[str(number)]:\n",
    "        shelf +=1\n",
    "    return str(shelf)\n",
    "\n",
    "def inform():\n",
    "    shelf =1\n",
    "    resp=[]\n",
    "    for doc in documents:\n",
    "        while doc['number'] not in directories[str(shelf)]:\n",
    "            shelf +=1\n",
    "        print('№',doc['number'], 'тип: ', doc['type'], 'владелец:', doc['name'], 'полка хранения:', shelf)\n",
    "        \n",
    "def adshelf(number):\n",
    "    if number not in  directories.keys():\n",
    "        directories[number] = []\n",
    "    else:\n",
    "        print(\"Такая полка уже существует.\")\n",
    "    return directories.keys()\n",
    "\n",
    "def delshelf(number):\n",
    "    if directories[number] != []:\n",
    "        print(\"На полке есть документа, удалите их перед удалением полки.\")\n",
    "    else:\n",
    "        del(directories[number])\n",
    "        print(\"Полка удалена.\")\n",
    "    return directories.keys()"
   ]
  },
  {
   "cell_type": "code",
   "execution_count": 25,
   "metadata": {},
   "outputs": [
    {
     "name": "stdout",
     "output_type": "stream",
     "text": [
      "Введите код команды: p\n",
      "Введите номер документа: 1\n",
      "Документ не найден\n",
      "Введите код команды: 11-2\n",
      "Введите код команды: p\n",
      "Введите номер документа: 11-2\n",
      "Владелец документа: Геннадий Покемонов\n",
      "Введите код команды: s\n",
      "Введите номер документа: 1\n",
      "Документ не найден\n",
      "Введите код команды: s\n",
      "Введите номер документа: 11-2\n"
     ]
    },
    {
     "ename": "KeyError",
     "evalue": "'11-2'",
     "output_type": "error",
     "traceback": [
      "\u001b[1;31m---------------------------------------------------------------------------\u001b[0m",
      "\u001b[1;31mKeyError\u001b[0m                                  Traceback (most recent call last)",
      "\u001b[1;32m<ipython-input-25-1e6a520d787a>\u001b[0m in \u001b[0;36m<module>\u001b[1;34m\u001b[0m\n\u001b[0;32m     12\u001b[0m             \u001b[0mprint\u001b[0m\u001b[1;33m(\u001b[0m\u001b[1;34m\"Документ не найден\"\u001b[0m\u001b[1;33m)\u001b[0m\u001b[1;33m\u001b[0m\u001b[1;33m\u001b[0m\u001b[0m\n\u001b[0;32m     13\u001b[0m         \u001b[1;32melse\u001b[0m\u001b[1;33m:\u001b[0m\u001b[1;33m\u001b[0m\u001b[1;33m\u001b[0m\u001b[0m\n\u001b[1;32m---> 14\u001b[1;33m             \u001b[0mprint\u001b[0m\u001b[1;33m(\u001b[0m\u001b[1;34m\"Документ хранится на полке\"\u001b[0m\u001b[1;33m,\u001b[0m \u001b[0msearchs\u001b[0m\u001b[1;33m(\u001b[0m\u001b[0mnumber\u001b[0m\u001b[1;33m)\u001b[0m\u001b[1;33m)\u001b[0m\u001b[1;33m\u001b[0m\u001b[1;33m\u001b[0m\u001b[0m\n\u001b[0m\u001b[0;32m     15\u001b[0m     \u001b[1;32melif\u001b[0m \u001b[0moperation\u001b[0m \u001b[1;33m==\u001b[0m \u001b[1;34m'l'\u001b[0m\u001b[1;33m:\u001b[0m\u001b[1;33m\u001b[0m\u001b[1;33m\u001b[0m\u001b[0m\n\u001b[0;32m     16\u001b[0m         \u001b[0minform\u001b[0m\u001b[1;33m(\u001b[0m\u001b[1;33m)\u001b[0m\u001b[1;33m\u001b[0m\u001b[1;33m\u001b[0m\u001b[0m\n",
      "\u001b[1;32m<ipython-input-24-8adf0a595f7c>\u001b[0m in \u001b[0;36msearchs\u001b[1;34m(number)\u001b[0m\n\u001b[0;32m      7\u001b[0m \u001b[1;32mdef\u001b[0m \u001b[0msearchs\u001b[0m\u001b[1;33m(\u001b[0m\u001b[0mnumber\u001b[0m\u001b[1;33m)\u001b[0m\u001b[1;33m:\u001b[0m\u001b[1;33m\u001b[0m\u001b[1;33m\u001b[0m\u001b[0m\n\u001b[0;32m      8\u001b[0m     \u001b[0mshelf\u001b[0m\u001b[1;33m=\u001b[0m\u001b[1;36m1\u001b[0m\u001b[1;33m\u001b[0m\u001b[1;33m\u001b[0m\u001b[0m\n\u001b[1;32m----> 9\u001b[1;33m     \u001b[1;32mwhile\u001b[0m \u001b[0mnumber\u001b[0m \u001b[1;32mnot\u001b[0m \u001b[1;32min\u001b[0m \u001b[0mdirectories\u001b[0m\u001b[1;33m[\u001b[0m\u001b[0mstr\u001b[0m\u001b[1;33m(\u001b[0m\u001b[0mnumber\u001b[0m\u001b[1;33m)\u001b[0m\u001b[1;33m]\u001b[0m\u001b[1;33m:\u001b[0m\u001b[1;33m\u001b[0m\u001b[1;33m\u001b[0m\u001b[0m\n\u001b[0m\u001b[0;32m     10\u001b[0m         \u001b[0mshelf\u001b[0m \u001b[1;33m+=\u001b[0m\u001b[1;36m1\u001b[0m\u001b[1;33m\u001b[0m\u001b[1;33m\u001b[0m\u001b[0m\n\u001b[0;32m     11\u001b[0m     \u001b[1;32mreturn\u001b[0m \u001b[0mstr\u001b[0m\u001b[1;33m(\u001b[0m\u001b[0mshelf\u001b[0m\u001b[1;33m)\u001b[0m\u001b[1;33m\u001b[0m\u001b[1;33m\u001b[0m\u001b[0m\n",
      "\u001b[1;31mKeyError\u001b[0m: '11-2'"
     ]
    }
   ],
   "source": [
    "while True:\n",
    "    operation = input('Введите код команды: ')\n",
    "    if operation == 'p':\n",
    "        number = input('Введите номер документа: ')\n",
    "        if docum(number) == None:\n",
    "            print(\"Документ не найден\")\n",
    "        else:\n",
    "            print('Владелец документа:', docum(number))\n",
    "    elif operation == 's':\n",
    "        number = input('Введите номер документа: ')\n",
    "        if docum(number) == None:\n",
    "            print(\"Документ не найден\")\n",
    "        else:    \n",
    "            print(\"Документ хранится на полке\", searchs(number))\n",
    "    elif operation == 'l':\n",
    "        inform()\n",
    "    elif operation == 'as':\n",
    "        number = input('Введите номер полки: ')\n",
    "        print(\"Текущий перечень полок:\", adshelf(number))\n",
    "    elif operation == 'ds':\n",
    "        number = input('Введите номер полки: ')\n",
    "        if number not in directories.keys():\n",
    "            print('Нет указанной полки')\n",
    "        else:\n",
    "            print(\"Текущий перечень полок:\", delshelf(number))\n",
    "    elif operation =='q':\n",
    "        break"
   ]
  },
  {
   "cell_type": "code",
   "execution_count": null,
   "metadata": {},
   "outputs": [],
   "source": []
  }
 ],
 "metadata": {
  "kernelspec": {
   "display_name": "Python 3",
   "language": "python",
   "name": "python3"
  },
  "language_info": {
   "codemirror_mode": {
    "name": "ipython",
    "version": 3
   },
   "file_extension": ".py",
   "mimetype": "text/x-python",
   "name": "python",
   "nbconvert_exporter": "python",
   "pygments_lexer": "ipython3",
   "version": "3.8.5"
  }
 },
 "nbformat": 4,
 "nbformat_minor": 4
}
