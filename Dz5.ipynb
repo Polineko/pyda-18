{
 "cells": [
  {
   "cell_type": "code",
   "execution_count": 16,
   "metadata": {},
   "outputs": [],
   "source": [
    "documents = [\n",
    "{'type': 'passport', 'number': '2207876234', 'name': 'Василий Гупкин'},\n",
    "{'type': 'invoice', 'number': '11-2', 'name': 'Геннадий Покемонов'},\n",
    "{'type': 'insurance', 'number': '10006', 'name': 'Аристарх Павлов'}\n",
    "]\n",
    "\n",
    "directories = {\n",
    "'1': ['2207876234', '11-2'],\n",
    "'2': ['10006'],\n",
    "'3': []\n",
    "}\n"
   ]
  },
  {
   "cell_type": "code",
   "execution_count": 17,
   "metadata": {},
   "outputs": [],
   "source": [
    "def docum(numer):\n",
    "    for doc in documents:\n",
    "        docnum = list(doc.values())\n",
    "        if docnum[1] == nomer:\n",
    "            return docnum[2]\n",
    "def poisk(nomer):\n",
    "    polka=1\n",
    "    while nomer not in directories[str(polka)]:\n",
    "        polka +=1\n",
    "    return str(polka)\n",
    "\n",
    "def inform():\n",
    "    polka =1\n",
    "    otvet=[]\n",
    "    for doc in documents:\n",
    "        while doc['number'] not in directories[str(polka)]:\n",
    "            polka +=1\n",
    "        print('№',doc['number'], 'тип: ', doc['type'], 'владелец:', doc['name'], 'полка хранения:', polka)\n",
    "        \n",
    "def doppolka(nomer):\n",
    "    if nomer not in  directories.keys():\n",
    "        directories[nomer] = []\n",
    "    else:\n",
    "        print(\"Такая полка уже существует.\")\n",
    "    return directories.keys()\n",
    "\n",
    "def udalpolka(nomer):\n",
    "    if directories[nomer] != []:\n",
    "        print(\"На полке есть документа, удалите их перед удалением полки.\")\n",
    "    else:\n",
    "        del(directories[nomer])\n",
    "        print(\"Полка удалена.\")\n",
    "    return directories.keys()"
   ]
  },
  {
   "cell_type": "code",
   "execution_count": 15,
   "metadata": {},
   "outputs": [
    {
     "name": "stdout",
     "output_type": "stream",
     "text": [
      "as\n",
      "Введите номер полки: 10\n",
      "Такая полка уже существует.\n",
      "Текущий перечень полок: dict_keys(['1', '2', '3', '10'])\n",
      "ds\n",
      "Введите номер полки: 10\n",
      "Полка удалена.\n",
      "Текущий перечень полок: dict_keys(['1', '2', '3'])\n",
      "ds\n",
      "Введите номер полки: 2\n",
      "На полке есть документа, удалите их перед удалением полки.\n",
      "Текущий перечень полок: dict_keys(['1', '2', '3'])\n",
      "ds\n",
      "Введите номер полки: 1\n",
      "На полке есть документа, удалите их перед удалением полки.\n",
      "Текущий перечень полок: dict_keys(['1', '2', '3'])\n",
      "q\n"
     ]
    }
   ],
   "source": [
    "while True:\n",
    "    comanda = input()\n",
    "    if comanda == 'p':\n",
    "        nomer = input('Введите номер документа: ')\n",
    "        if docum(nomer) == None:\n",
    "            print(\"Документ не найден\")\n",
    "        else:\n",
    "            print(docum(nomer))\n",
    "    elif comanda == 's':\n",
    "        nomer = input('Введите номер документа: ')\n",
    "        print(\"Документ хранится на полке\", poisk(nomer))\n",
    "    elif comanda == 'l':\n",
    "        print(inform())\n",
    "    elif comanda == 'as':\n",
    "        nomer = input('Введите номер полки: ')\n",
    "        print(\"Текущий перечень полок:\", doppolka(nomer))\n",
    "    elif comanda == 'ds':\n",
    "        nomer = input('Введите номер полки: ')\n",
    "        print(\"Текущий перечень полок:\", udalpolka(nomer))\n",
    "    elif comanda =='q':\n",
    "        break"
   ]
  }
 ],
 "metadata": {
  "kernelspec": {
   "display_name": "Python 3",
   "language": "python",
   "name": "python3"
  },
  "language_info": {
   "codemirror_mode": {
    "name": "ipython",
    "version": 3
   },
   "file_extension": ".py",
   "mimetype": "text/x-python",
   "name": "python",
   "nbconvert_exporter": "python",
   "pygments_lexer": "ipython3",
   "version": "3.8.5"
  }
 },
 "nbformat": 4,
 "nbformat_minor": 4
}
