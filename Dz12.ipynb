{
 "cells": [
  {
   "cell_type": "markdown",
   "metadata": {},
   "source": [
    "Задание 1\n",
    "Напишите функцию, которая классифицирует фильмы из материалов занятия по следующим правилам:\n",
    "- оценка 2 и меньше - низкий рейтинг\n",
    "- оценка 4 и меньше - средний рейтинг\n",
    "- оценка 4.5 и 5 - высокий рейтинг\n",
    "\n",
    "Результат классификации запишите в столбец class"
   ]
  },
  {
   "cell_type": "code",
   "execution_count": 2,
   "metadata": {},
   "outputs": [],
   "source": [
    "import pandas as pd\n",
    "data = pd.read_csv('movies.csv')\n",
    "data2 = pd.read_csv('ratings.csv')"
   ]
  },
  {
   "cell_type": "code",
   "execution_count": 2,
   "metadata": {},
   "outputs": [],
   "source": [
    "rating = data2.groupby('movieId')[['rating']].mean()\n",
    "ratingfilm = data.join(rating, how = 'inner')"
   ]
  },
  {
   "cell_type": "code",
   "execution_count": 3,
   "metadata": {},
   "outputs": [],
   "source": [
    "def classfilm(rate):\n",
    "    if rate <=2:\n",
    "        return \"Низкий рейтинг\"\n",
    "    elif rate <=4:\n",
    "        return \"Средний рейтинг\"\n",
    "    else:\n",
    "        return \"Высокий рейтинг\""
   ]
  },
  {
   "cell_type": "code",
   "execution_count": 4,
   "metadata": {},
   "outputs": [],
   "source": [
    "ratingfilm['class'] = ratingfilm['rating'].apply(classfilm)"
   ]
  },
  {
   "cell_type": "code",
   "execution_count": 5,
   "metadata": {},
   "outputs": [
    {
     "name": "stdout",
     "output_type": "stream",
     "text": [
      "   movieId                               title                      genres  \\\n",
      "1        2                      Jumanji (1995)  Adventure|Children|Fantasy   \n",
      "2        3             Grumpier Old Men (1995)              Comedy|Romance   \n",
      "3        4            Waiting to Exhale (1995)        Comedy|Drama|Romance   \n",
      "4        5  Father of the Bride Part II (1995)                      Comedy   \n",
      "5        6                         Heat (1995)       Action|Crime|Thriller   \n",
      "\n",
      "     rating            class  \n",
      "1  3.872470  Средний рейтинг  \n",
      "2  3.401869  Средний рейтинг  \n",
      "3  3.161017  Средний рейтинг  \n",
      "4  2.384615  Средний рейтинг  \n",
      "5  3.267857  Средний рейтинг  \n"
     ]
    }
   ],
   "source": [
    "print(ratingfilm.head())"
   ]
  },
  {
   "cell_type": "markdown",
   "metadata": {},
   "source": [
    "Задание 2\n",
    "Используем файл keywords.csv.\n",
    "\n",
    "Необходимо написать гео-классификатор, который каждой строке сможет выставить географическую принадлежность определенному региону. Т. е. если поисковый запрос содержит название города региона, то в столбце ‘region’ пишется название этого региона. Если поисковый запрос не содержит названия города, то ставим ‘undefined’.\n",
    "\n",
    "Правила распределения по регионам Центр, Северо-Запад и Дальний Восток:\n",
    "\n",
    "geo_data = {\n",
    "\n",
    "1\n",
    "2\n",
    "3\n",
    "4\n",
    "5\n",
    "'Центр': ['москва', 'тула', 'ярославль'],\n",
    "\n",
    "'Северо-Запад': ['петербург', 'псков', 'мурманск'],\n",
    "\n",
    "'Дальний Восток': ['владивосток', 'сахалин', 'хабаровск']\n",
    "}\n",
    "\n",
    "Результат классификации запишите в отдельный столбец region."
   ]
  },
  {
   "cell_type": "code",
   "execution_count": 40,
   "metadata": {},
   "outputs": [
    {
     "name": "stdout",
     "output_type": "stream",
     "text": [
      "         keyword     shows\n",
      "0             вк  64292779\n",
      "1  одноклассники  63810309\n",
      "2          порно  41747114\n",
      "3           ютуб  39995567\n",
      "4      вконтакте  21014195\n"
     ]
    }
   ],
   "source": [
    "from pymystem3 import Mystem\n",
    "keyw = pd.read_csv('keywords.csv')\n",
    "print(keyw.head())"
   ]
  },
  {
   "cell_type": "code",
   "execution_count": 41,
   "metadata": {},
   "outputs": [],
   "source": [
    "def geo_class(keyword):\n",
    "    keyword = keyword.lower()\n",
    "    if 'москв' in keyword:\n",
    "        return \"Центр\"\n",
    "    elif ' тул' in keyword:\n",
    "        return \"Центр\"\n",
    "    elif 'мурманск' in keyword:\n",
    "        return \"Северо-Запад\"\n",
    "    elif 'петербург' in keyword:\n",
    "        return \"Северо-Запад\"\n",
    "    elif 'псков' in keyword:\n",
    "        return \"Северо-Запад\"\n",
    "    elif 'ярослав' in keyword:\n",
    "        return \"Центр\"\n",
    "    elif 'владивосток' in keyword:\n",
    "        return \"Дальний Восток\"\n",
    "    elif 'сахалин' in keyword:\n",
    "        return \"Дальний Восток\"\n",
    "    elif 'хабаровск' in keyword:\n",
    "        return \"Дальний Восток\"\n",
    "    else:\n",
    "        return \"undefined\"\n",
    "    "
   ]
  },
  {
   "cell_type": "code",
   "execution_count": 42,
   "metadata": {},
   "outputs": [],
   "source": [
    "keyw['region'] = keyw['keyword'].apply(geo_class)"
   ]
  },
  {
   "cell_type": "code",
   "execution_count": 47,
   "metadata": {},
   "outputs": [
    {
     "data": {
      "text/html": [
       "<div>\n",
       "<style scoped>\n",
       "    .dataframe tbody tr th:only-of-type {\n",
       "        vertical-align: middle;\n",
       "    }\n",
       "\n",
       "    .dataframe tbody tr th {\n",
       "        vertical-align: top;\n",
       "    }\n",
       "\n",
       "    .dataframe thead th {\n",
       "        text-align: right;\n",
       "    }\n",
       "</style>\n",
       "<table border=\"1\" class=\"dataframe\">\n",
       "  <thead>\n",
       "    <tr style=\"text-align: right;\">\n",
       "      <th></th>\n",
       "      <th>keyword</th>\n",
       "      <th>shows</th>\n",
       "      <th>region</th>\n",
       "    </tr>\n",
       "  </thead>\n",
       "  <tbody>\n",
       "    <tr>\n",
       "      <th>0</th>\n",
       "      <td>вк</td>\n",
       "      <td>64292779</td>\n",
       "      <td>undefined</td>\n",
       "    </tr>\n",
       "    <tr>\n",
       "      <th>1</th>\n",
       "      <td>одноклассники</td>\n",
       "      <td>63810309</td>\n",
       "      <td>undefined</td>\n",
       "    </tr>\n",
       "    <tr>\n",
       "      <th>2</th>\n",
       "      <td>порно</td>\n",
       "      <td>41747114</td>\n",
       "      <td>undefined</td>\n",
       "    </tr>\n",
       "    <tr>\n",
       "      <th>3</th>\n",
       "      <td>ютуб</td>\n",
       "      <td>39995567</td>\n",
       "      <td>undefined</td>\n",
       "    </tr>\n",
       "    <tr>\n",
       "      <th>4</th>\n",
       "      <td>вконтакте</td>\n",
       "      <td>21014195</td>\n",
       "      <td>undefined</td>\n",
       "    </tr>\n",
       "  </tbody>\n",
       "</table>\n",
       "</div>"
      ],
      "text/plain": [
       "         keyword     shows     region\n",
       "0             вк  64292779  undefined\n",
       "1  одноклассники  63810309  undefined\n",
       "2          порно  41747114  undefined\n",
       "3           ютуб  39995567  undefined\n",
       "4      вконтакте  21014195  undefined"
      ]
     },
     "execution_count": 47,
     "metadata": {},
     "output_type": "execute_result"
    }
   ],
   "source": [
    "keyw.head()"
   ]
  }
 ],
 "metadata": {
  "kernelspec": {
   "display_name": "Python 3",
   "language": "python",
   "name": "python3"
  }
 },
 "nbformat": 4,
 "nbformat_minor": 4
}
