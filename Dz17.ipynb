{
 "cells": [
  {
   "cell_type": "markdown",
   "metadata": {},
   "source": [
    "Смоделировать игру против лотерейного автомата типа “777”. Игрок платит 1 руб., после чего выпадает случайное целое число, равномерно распределенное от 0 до 999. При некоторых значениях числа игрок получает выигрыш (см. справа)\n",
    "\n",
    "Выгодна ли игра игроку?\n",
    "\n",
    "Сколько в среднем приобретает\n",
    "или теряет игрок за одну игру?\n",
    "\n",
    "777: 200 руб.\n",
    "999: 100 руб.\n",
    "555: 50 руб.\n",
    "333: 15 руб.\n",
    "111: 10 руб.\n",
    "*77: 5 руб.\n",
    "**7: 3 руб.\n",
    "*00: 2 руб.\n",
    "**0: 1 руб."
   ]
  },
  {
   "cell_type": "code",
   "execution_count": 4,
   "metadata": {},
   "outputs": [
    {
     "name": "stdout",
     "output_type": "stream",
     "text": [
      "В среднем на 1 игру участник теряет:  -0.192946\n"
     ]
    }
   ],
   "source": [
    "import numpy as np\n",
    "tot = 1000000 # число попыток\n",
    "gain_sum = 0 # выигранная сумма\n",
    "for i in range(tot):\n",
    "    res = np.random.randint(0,1000)\n",
    "    if res == 777:\n",
    "        gain_sum += 200\n",
    "    elif res == 999:\n",
    "        gain_sum += 100\n",
    "    elif res == 555:\n",
    "        gain_sum += 50\n",
    "    elif res == 333:\n",
    "        gain_sum += 15\n",
    "    elif res == 111:\n",
    "        gain_sum += 10\n",
    "    elif res % 100 == 77:\n",
    "        gain_sum += 5\n",
    "    elif res % 10 == 7:\n",
    "        gain_sum += 3\n",
    "    elif res % 100 == 0:\n",
    "        gain_sum += 2\n",
    "    elif res % 10 == 0:\n",
    "        gain_sum +=1\n",
    "print(\"В среднем на 1 игру участник теряет: \", (gain_sum-tot)/tot)"
   ]
  }
 ],
 "metadata": {
  "kernelspec": {
   "display_name": "Python 3",
   "language": "python",
   "name": "python3"
  },
  "language_info": {
   "codemirror_mode": {
    "name": "ipython",
    "version": 3
   },
   "file_extension": ".py",
   "mimetype": "text/x-python",
   "name": "python",
   "nbconvert_exporter": "python",
   "pygments_lexer": "ipython3",
   "version": "3.8.5"
  }
 },
 "nbformat": 4,
 "nbformat_minor": 4
}
