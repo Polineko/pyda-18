{
 "cells": [
  {
   "cell_type": "code",
   "execution_count": 5,
   "metadata": {},
   "outputs": [
    {
     "name": "stdout",
     "output_type": "stream",
     "text": [
      "Введите phrase_1: dd\n",
      "Введите phrase_2: s\n",
      "Фраза 1 длиннее фразы 2\n"
     ]
    }
   ],
   "source": [
    "phrase_1 = input('Введите phrase_1: ')\n",
    "phrase_2 = input('Введите phrase_2: ')\n",
    "if len(phrase_1)>len(phrase_2):\n",
    "    print('Фраза 1 длиннее фразы 2')\n",
    "elif len(phrase_1)<len(phrase_2):\n",
    "    print('Фраза 2 длиннее фразы 1')\n",
    "else:\n",
    "    print('Фразы равной длины')"
   ]
  },
  {
   "cell_type": "code",
   "execution_count": 9,
   "metadata": {},
   "outputs": [
    {
     "name": "stdout",
     "output_type": "stream",
     "text": [
      "Введите год: 1700\n",
      "Обычный год\n"
     ]
    }
   ],
   "source": [
    "year = int(input('Введите год: '))\n",
    "if year%400 ==0:\n",
    "    print('Високосный год')\n",
    "elif year%100==0:\n",
    "    print('Обычный год')\n",
    "elif year%4==0:\n",
    "    print('Високосный год')\n",
    "else:\n",
    "    print('Обычный год')"
   ]
  },
  {
   "cell_type": "code",
   "execution_count": 13,
   "metadata": {},
   "outputs": [
    {
     "name": "stdout",
     "output_type": "stream",
     "text": [
      "Введите день: 30\n",
      "Введите месяц: Август\n",
      "Ваш знак зодиака:Дева\n"
     ]
    }
   ],
   "source": [
    "date=int(input(\"Введите день: \"))\n",
    "month=input(\"Введите месяц: \")\n",
    "if (date>=21 and date<=31 and month=='Март') or( month=='Апрель' and date>=1 and date<=19):\n",
    "   print(\"Ваш знак зодиака:Овен\")\n",
    "elif (date>=20 and date<=30 and month=='Апрель') or( month=='Май' and date>=1 and date<=20):\n",
    "   print(\"Ваш знак зодиака:Телец\")\n",
    "elif (date>=21 and date<=31 and month=='Май') or( month=='Июнь' and date>=1 and date<=21):\n",
    "   print(\"Ваш знак зодиака:Близнецы\")\n",
    "elif (date>=22 and date<=30 and month=='Июнь') or( month=='Июль' and date>=1 and date<=22):\n",
    "   print(\"Ваш знак зодиака:Рак\")\n",
    "elif (date>=23 and date<=31 and month=='Июль') or( month=='Август' and date>=1 and date<=22):\n",
    "   print(\"Ваш знак зодиака:Лев\")\n",
    "elif (date>=23 and date<=31 and month=='Август') or( month=='Сентябрь' and date>=1 and date<=22):\n",
    "   print(\"Ваш знак зодиака:Дева\")\n",
    "elif (date>=23 and date<=30 and month=='Сентябрь') or( month=='Октябрь' and date>=1 and date<=23):\n",
    "   print(\"Ваш знак зодиака:Весы\")\n",
    "elif (date>=24 and date<=31 and month=='Октябрь') or( month=='Ноябрь' and date>=1 and date<=22):\n",
    "   print(\"Ваш знак зодиака:Скорпион\")\n",
    "elif (date>=23 and date<=30 and month=='Ноябрь') or( month=='Декабрь' and date>=1 and date<=21):\n",
    "   print(\"Ваш знак зодиака:Стрелец\")\n",
    "elif (date>=22 and date<=31 and month=='Декабрь') or( month=='Январь' and date>=1 and date<=20):\n",
    "    print(\"Ваш знак зодиака:Козерог\")\n",
    "elif (date>=21 and date<=31 and month=='Январь') or( month=='Февраль' and date>=1 and date<=18):\n",
    "   print(\"Ваш знак зодиака:Водолей\")\n",
    "elif (date>=19 and date<=29 and month=='Февраль') or( month=='Март' and date>=1 and date<=20):\n",
    "   print(\"Ваш знак зодиака:Рыбы\")"
   ]
  },
  {
   "cell_type": "code",
   "execution_count": 17,
   "metadata": {},
   "outputs": [
    {
     "name": "stdout",
     "output_type": "stream",
     "text": [
      "Введите ширину(см): 15\n",
      "Введите длину(см): 50\n",
      "Введите длину(см): 15\n",
      "Стандартная коробка №3\n"
     ]
    }
   ],
   "source": [
    "width = int(input('Введите ширину(см): '))\n",
    "length = int(input('Введите длину(см): '))\n",
    "height = int(input('Введите длину(см): '))\n",
    "if width<15 and length<15 and height<15:\n",
    "    print('Коробка №1')\n",
    "elif (15<width<50 and 15>length and height<15) or (15<length<50 and width<15 and height<15) or (15<height<50 and width<15 and length<15):\n",
    "    print('Коробка №2')\n",
    "elif length>200:\n",
    "    print('Упаковка для лыж')\n",
    "else:\n",
    "    print('Стандартная коробка №3')"
   ]
  }
 ],
 "metadata": {
  "kernelspec": {
   "display_name": "Python 3",
   "language": "python",
   "name": "python3"
  },
  "language_info": {
   "codemirror_mode": {
    "name": "ipython",
    "version": 3
   },
   "file_extension": ".py",
   "mimetype": "text/x-python",
   "name": "python",
   "nbconvert_exporter": "python",
   "pygments_lexer": "ipython3",
   "version": "3.8.5"
  }
 },
 "nbformat": 4,
 "nbformat_minor": 4
}
