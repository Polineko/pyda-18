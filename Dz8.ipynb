{
 "cells": [
  {
   "cell_type": "markdown",
   "metadata": {},
   "source": [
    "Задание 1\n",
    "Напишите функцию, которая возвращает название валюты (поле ‘Name’) с максимальным значением курса с помощью сервиса https://www.cbr-xml-daily.ru/daily_json.js"
   ]
  },
  {
   "cell_type": "code",
   "execution_count": 39,
   "metadata": {},
   "outputs": [
    {
     "name": "stdout",
     "output_type": "stream",
     "text": [
      "Максимальный курс за ед: ('СДР (специальные права заимствования)', 106.0)\n"
     ]
    }
   ],
   "source": [
    "import requests\n",
    "price = []\n",
    "price_name = []\n",
    "full_data = requests.get('https://www.cbr-xml-daily.ru/daily_json.js').json()\n",
    "usd = full_data['Valute']['USD']['Value']\n",
    "def max_price():\n",
    "    currency_name = full_data['Valute'].keys()\n",
    "    for i in currency_name:\n",
    "        price.append(round(full_data['Valute'][i]['Value']/full_data['Valute'][i]['Nominal'],2))\n",
    "        price_name.append(full_data['Valute'][i]['Name'])\n",
    "    ind = price.index(max(price))\n",
    "    return price_name[ind], max(price)       \n",
    "print('Максимальный курс за ед:', max_price())"
   ]
  },
  {
   "cell_type": "markdown",
   "metadata": {},
   "source": [
    "Задание 2\n",
    "Добавьте в класс Rate параметр diff (со значениями True или False), который в случае значения True в методах курсов валют (eur, usd итд) будет возвращать не курс валюты, а изменение по сравнению в прошлым значением. Считайте, self.diff будет принимать значение True только при возврате значения курса. При отображении всей информации о валюте он не используется."
   ]
  },
  {
   "cell_type": "code",
   "execution_count": 193,
   "metadata": {},
   "outputs": [],
   "source": [
    "from exchange import Rate\n",
    "\n",
    "class NewExchanges(Rate):\n",
    "    def __init__(self, format='value', diff=False):\n",
    "        if diff:\n",
    "            format='full'\n",
    "        super().__init__(format)\n",
    "        self.diff = diff\n",
    "        \n",
    "    def make_format(self, currency):\n",
    "        if self.diff:\n",
    "            return super().make_format(currency)['Value'] - super().make_format(currency)['Previous']\n",
    "        return super().make_format(currency)\n",
    " "
   ]
  },
  {
   "cell_type": "code",
   "execution_count": 194,
   "metadata": {},
   "outputs": [
    {
     "data": {
      "text/plain": [
       "{'ID': 'R01235',\n",
       " 'NumCode': '840',\n",
       " 'CharCode': 'USD',\n",
       " 'Nominal': 1,\n",
       " 'Name': 'Доллар США',\n",
       " 'Value': 75.3585,\n",
       " 'Previous': 74.6085}"
      ]
     },
     "execution_count": 194,
     "metadata": {},
     "output_type": "execute_result"
    }
   ],
   "source": [
    "NewExchanges('full').usd()"
   ]
  },
  {
   "cell_type": "code",
   "execution_count": 196,
   "metadata": {},
   "outputs": [
    {
     "data": {
      "text/plain": [
       "1.1096999999999895"
      ]
     },
     "execution_count": 196,
     "metadata": {},
     "output_type": "execute_result"
    }
   ],
   "source": [
    "NewExchanges(format='value', diff=True).eur()"
   ]
  },
  {
   "cell_type": "markdown",
   "metadata": {},
   "source": [
    "Задание 3\n",
    "Напишите класс Designer, который учитывает количество международных премий. Подсказки в коде занятия в разделе “Домашнее задание задача 3”."
   ]
  },
  {
   "cell_type": "code",
   "execution_count": 1,
   "metadata": {},
   "outputs": [],
   "source": [
    "class Employee:\n",
    "    def __init__(self, name, seniority):\n",
    "        self.name = name\n",
    "        self.seniority = seniority\n",
    "        \n",
    "        self.grade = 1\n",
    "     \n",
    "    def grade_up(self):\n",
    "        \"\"\"Повышает уровень сотрудника\"\"\"\n",
    "        self.grade += 1\n",
    "    \n",
    "    def publish_grade(self):\n",
    "        \"\"\"Публикация результатов аккредитации сотрудников\"\"\"\n",
    "        print(self.name, self.grade)\n",
    "    \n",
    "    def check_if_it_is_time_for_upgrade(self):\n",
    "        pass"
   ]
  },
  {
   "cell_type": "code",
   "execution_count": 2,
   "metadata": {},
   "outputs": [],
   "source": [
    "class Developer(Employee):\n",
    "    def __init__(self, name, seniority):\n",
    "        super().__init__(name, seniority)\n",
    "    \n",
    "    def check_if_it_is_time_for_upgrade(self):\n",
    "        # для каждой аккредитации увеличиваем счетчик на 1\n",
    "        # пока считаем, что все разработчики проходят аккредитацию\n",
    "        self.seniority += 1\n",
    "        \n",
    "        # условие повышения сотрудника из презентации\n",
    "        if self.seniority % 5 == 0:\n",
    "            self.grade_up()\n",
    "        \n",
    "        # публикация результатов\n",
    "        return self.publish_grade()"
   ]
  },
  {
   "cell_type": "code",
   "execution_count": 3,
   "metadata": {},
   "outputs": [],
   "source": [
    "# проверяем как работает система повышения сотрудников на примере отдела разработки\n",
    "\n",
    "# разработчик Александр только что пришел в компанию\n",
    "alex = Developer('Александр', 0)"
   ]
  },
  {
   "cell_type": "code",
   "execution_count": 4,
   "metadata": {},
   "outputs": [
    {
     "name": "stdout",
     "output_type": "stream",
     "text": [
      "Александр 1\n",
      "Александр 1\n",
      "Александр 1\n",
      "Александр 1\n",
      "Александр 2\n",
      "Александр 2\n",
      "Александр 2\n",
      "Александр 2\n",
      "Александр 2\n",
      "Александр 3\n",
      "Александр 3\n",
      "Александр 3\n",
      "Александр 3\n",
      "Александр 3\n",
      "Александр 4\n",
      "Александр 4\n",
      "Александр 4\n",
      "Александр 4\n",
      "Александр 4\n",
      "Александр 5\n"
     ]
    }
   ],
   "source": [
    "for i in range(20):\n",
    "    alex.check_if_it_is_time_for_upgrade()"
   ]
  },
  {
   "cell_type": "code",
   "execution_count": 12,
   "metadata": {},
   "outputs": [],
   "source": [
    "class Designer(Employee):\n",
    "    def __init__(self, name, seniority):\n",
    "        super().__init__(name, seniority)\n",
    "\n",
    "    def check_designer_time_for_upgrade(self):\n",
    "        # для каждой премии увеличиваем счетчик на 2\n",
    "        self.seniority += 2\n",
    "        \n",
    "        # условие повышения сотрудника\n",
    "        if self.seniority % 7 == 1:\n",
    "            self.grade_up()\n",
    "        elif self.seniority % 7 == 0:\n",
    "            self.grade_up()\n",
    "        \n",
    "        # публикация результатов\n",
    "        return self.publish_grade()"
   ]
  },
  {
   "cell_type": "code",
   "execution_count": 13,
   "metadata": {},
   "outputs": [],
   "source": [
    "vika = Designer('Вика', 4)"
   ]
  },
  {
   "cell_type": "code",
   "execution_count": 14,
   "metadata": {},
   "outputs": [
    {
     "name": "stdout",
     "output_type": "stream",
     "text": [
      "Вика 1\n",
      "Вика 2\n",
      "Вика 2\n",
      "Вика 2\n",
      "Вика 3\n",
      "Вика 3\n",
      "Вика 3\n",
      "Вика 3\n",
      "Вика 4\n",
      "Вика 4\n",
      "Вика 4\n",
      "Вика 5\n",
      "Вика 5\n",
      "Вика 5\n",
      "Вика 5\n",
      "Вика 6\n",
      "Вика 6\n",
      "Вика 6\n",
      "Вика 7\n",
      "Вика 7\n",
      "Вика 7\n",
      "Вика 7\n",
      "Вика 8\n",
      "Вика 8\n",
      "Вика 8\n",
      "Вика 9\n",
      "Вика 9\n",
      "Вика 9\n",
      "Вика 9\n",
      "Вика 10\n",
      "Вика 10\n",
      "Вика 10\n",
      "Вика 11\n",
      "Вика 11\n",
      "Вика 11\n",
      "Вика 11\n",
      "Вика 12\n",
      "Вика 12\n",
      "Вика 12\n",
      "Вика 13\n",
      "Вика 13\n",
      "Вика 13\n",
      "Вика 13\n",
      "Вика 14\n",
      "Вика 14\n",
      "Вика 14\n",
      "Вика 15\n",
      "Вика 15\n",
      "Вика 15\n",
      "Вика 15\n"
     ]
    }
   ],
   "source": [
    "for seniority in range(50):\n",
    "    vika.check_designer_time_for_upgrade()"
   ]
  },
  {
   "cell_type": "code",
   "execution_count": null,
   "metadata": {},
   "outputs": [],
   "source": []
  }
 ],
 "metadata": {
  "kernelspec": {
   "display_name": "Python 3",
   "language": "python",
   "name": "python3"
  },
  "language_info": {
   "codemirror_mode": {
    "name": "ipython",
    "version": 3
   },
   "file_extension": ".py",
   "mimetype": "text/x-python",
   "name": "python",
   "nbconvert_exporter": "python",
   "pygments_lexer": "ipython3",
   "version": "3.8.5"
  }
 },
 "nbformat": 4,
 "nbformat_minor": 4
}
