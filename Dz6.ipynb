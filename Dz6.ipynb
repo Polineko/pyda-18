{
 "cells": [
  {
   "cell_type": "code",
   "execution_count": 135,
   "metadata": {},
   "outputs": [],
   "source": [
    "import json\n",
    "f = open ('purchase_log.txt', 'r', encoding = 'utf-8')\n",
    "i=0\n",
    "content = f.readlines()\n",
    "ids = []\n",
    "cat = []\n",
    "for line in content:\n",
    "    line=line.strip().split(',')\n",
    "    line2 = line[0].split()\n",
    "    line3 = line[1].split()\n",
    "    idline = line2[1].strip('\"')\n",
    "    catline = line3[1].strip('}').strip('\"')\n",
    "    ids.append(idline)\n",
    "    cat.append(catline)\n",
    "    \n",
    "purchases = dict(zip(ids, cat))\n",
    "f.close()"
   ]
  },
  {
   "cell_type": "code",
   "execution_count": 136,
   "metadata": {},
   "outputs": [],
   "source": [
    "f = open('visit_log.csv', 'r')\n",
    "f2 = open('funnel.csv', 'w')\n",
    "i=0\n",
    "visit = []\n",
    "for line in f:\n",
    "    line = line.strip().split(',')\n",
    "    try:\n",
    "        line1 = line[0],\",\", line[1],\",\", purchases[line[0]]\n",
    "        f2.write(json.dumps(line1)) #write json in the file\n",
    "#        f2.write(str(line1))\n",
    "    except KeyError:\n",
    "        continue\n",
    "f.close()\n",
    "f2.close()"
   ]
  },
  {
   "cell_type": "code",
   "execution_count": null,
   "metadata": {},
   "outputs": [],
   "source": []
  }
 ],
 "metadata": {
  "kernelspec": {
   "display_name": "Python 3",
   "language": "python",
   "name": "python3"
  },
  "language_info": {
   "codemirror_mode": {
    "name": "ipython",
    "version": 3
   },
   "file_extension": ".py",
   "mimetype": "text/x-python",
   "name": "python",
   "nbconvert_exporter": "python",
   "pygments_lexer": "ipython3",
   "version": "3.8.5"
  }
 },
 "nbformat": 4,
 "nbformat_minor": 4
}
