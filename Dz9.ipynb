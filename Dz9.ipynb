{
 "cells": [
  {
   "cell_type": "markdown",
   "metadata": {},
   "source": [
    "Напишите функцию, которая принимает на вход строку и проверяет является ли она валидным транспортным номером (1 буква, 3 цифры, 2 буквы, 2-3 цифры). Обратите внимание, что не все буквы кириллического алфавита используются в транспортных номерах.\n",
    "\n",
    "Если номер валиден, то функция должна возвращать отдельно номер и регион."
   ]
  },
  {
   "cell_type": "code",
   "execution_count": 94,
   "metadata": {},
   "outputs": [
    {
     "name": "stdout",
     "output_type": "stream",
     "text": [
      "Номер ['АВ222С'] валиден. Регион: ['96']\n"
     ]
    }
   ],
   "source": [
    "import re\n",
    "car_id = 'АВ222С96'\n",
    "if re.findall(r'([АВЕКМНОРСТУХ]{1,2}\\d{3}[АВЕКМНОРСТУХ]{1,2})(\\d{2,3})', car_id) != []:\n",
    "    print('Номер', re.findall(r'([АВЕКМНОРСТУХ]{1,2}\\d{3}[АВЕКМНОРСТУХ]{1,2})', car_id), 'валиден. Регион:', re.findall(r'(\\d{2,3})$', car_id))\n",
    "else:\n",
    "    print('Номер не валиден')"
   ]
  },
  {
   "cell_type": "markdown",
   "metadata": {},
   "source": [
    "Напишите функцию, которая будет удалять все последовательные повторы слов из заданной строки при помощи регулярных выражений"
   ]
  },
  {
   "cell_type": "code",
   "execution_count": 84,
   "metadata": {},
   "outputs": [
    {
     "data": {
      "text/plain": [
       "'Напишите функцию, которая будет удалять все последовательные повторы слов из заданной строки при помощи регулярных выражений'"
      ]
     },
     "execution_count": 84,
     "metadata": {},
     "output_type": "execute_result"
    }
   ],
   "source": [
    "some_string = 'Напишите функцию функцию, которая будет будет будет будет удалять все все все все последовательные повторы слов из из из из заданной строки строки при помощи регулярных выражений'\n",
    "re.sub(r'(\\w+)(\\s+\\1)+', r'\\1', some_string)"
   ]
  },
  {
   "cell_type": "markdown",
   "metadata": {},
   "source": [
    "Напишите функцию, которая будет возвращать акроним по переданной в нее строке со словами."
   ]
  },
  {
   "cell_type": "code",
   "execution_count": 88,
   "metadata": {},
   "outputs": [
    {
     "data": {
      "text/plain": [
       "'Ит'"
      ]
     },
     "execution_count": 88,
     "metadata": {},
     "output_type": "execute_result"
    }
   ],
   "source": [
    "some_words = 'Информационные технологии'\n",
    "re.sub(r'(\\w)\\w+(\\s*)', r'\\1',some_words)"
   ]
  },
  {
   "cell_type": "markdown",
   "metadata": {},
   "source": [
    "Напишите функцию, которая будет принимать на вход список email-адресов и выводить их распределение по доменным зонам."
   ]
  },
  {
   "cell_type": "code",
   "execution_count": 160,
   "metadata": {},
   "outputs": [
    {
     "name": "stdout",
     "output_type": "stream",
     "text": [
      "gmail.com: 2 test.in: 1 ya.ru: 2 mail.ru: 1\n"
     ]
    }
   ],
   "source": [
    "emails = ['test@gmail.com', 'xyz@test.in', 'test@ya.ru', 'xyz@mail.ru', 'xyz@ya.ru', 'xyz@gmail.com']\n",
    "gmail=r'\\w@gmail.com'\n",
    "test = r'\\w@test.in'\n",
    "ya = r'\\w@ya.ru'\n",
    "mailru = r'\\w@mail.ru'\n",
    "g = 0\n",
    "t = 0\n",
    "y = 0\n",
    "m = 0\n",
    "\n",
    "for email in emails:\n",
    "    if re.findall(gmail, email):\n",
    "        g += 1\n",
    "    elif re.findall(test, email):\n",
    "        t += 1\n",
    "    elif re.findall(ya, email):\n",
    "        y += 1\n",
    "    elif re.findall(mailru, email):\n",
    "        m += 1\n",
    "print('gmail.com:', g, 'test.in:', t, 'ya.ru:', y, 'mail.ru:', m)"
   ]
  }
 ],
 "metadata": {
  "kernelspec": {
   "display_name": "Python 3",
   "language": "python",
   "name": "python3"
  },
  "language_info": {
   "codemirror_mode": {
    "name": "ipython",
    "version": 3
   },
   "file_extension": ".py",
   "mimetype": "text/x-python",
   "name": "python",
   "nbconvert_exporter": "python",
   "pygments_lexer": "ipython3",
   "version": "3.8.5"
  }
 },
 "nbformat": 4,
 "nbformat_minor": 4
}
