{
 "cells": [
  {
   "cell_type": "markdown",
   "metadata": {},
   "source": [
    "Задание 1\n",
    "Скачайте с сайта https://grouplens.org/datasets/movielens/ датасет любого размера. Определите какому фильму было выставлено больше всего оценок 5.0."
   ]
  },
  {
   "cell_type": "code",
   "execution_count": 49,
   "metadata": {},
   "outputs": [],
   "source": [
    "import pandas as pd\n",
    "data = pd.read_csv('movies.csv')"
   ]
  },
  {
   "cell_type": "code",
   "execution_count": 50,
   "metadata": {},
   "outputs": [],
   "source": [
    "data2 = pd.read_csv('ratings.csv')"
   ]
  },
  {
   "cell_type": "code",
   "execution_count": 51,
   "metadata": {},
   "outputs": [],
   "source": [
    "rating = data2[data2.rating == 5.0].groupby('movieId')[['userId']].count()\n",
    "rating = rating.rename(columns={'userId':'count_rating_5'})"
   ]
  },
  {
   "cell_type": "code",
   "execution_count": 52,
   "metadata": {},
   "outputs": [],
   "source": [
    "ratingfilm = data.join(rating, how = 'inner')"
   ]
  },
  {
   "cell_type": "code",
   "execution_count": 53,
   "metadata": {},
   "outputs": [
    {
     "data": {
      "text/html": [
       "<div>\n",
       "<style scoped>\n",
       "    .dataframe tbody tr th:only-of-type {\n",
       "        vertical-align: middle;\n",
       "    }\n",
       "\n",
       "    .dataframe tbody tr th {\n",
       "        vertical-align: top;\n",
       "    }\n",
       "\n",
       "    .dataframe thead th {\n",
       "        text-align: right;\n",
       "    }\n",
       "</style>\n",
       "<table border=\"1\" class=\"dataframe\">\n",
       "  <thead>\n",
       "    <tr style=\"text-align: right;\">\n",
       "      <th></th>\n",
       "      <th>movieId</th>\n",
       "      <th>title</th>\n",
       "      <th>genres</th>\n",
       "      <th>count_rating_5</th>\n",
       "    </tr>\n",
       "  </thead>\n",
       "  <tbody>\n",
       "    <tr>\n",
       "      <th>318</th>\n",
       "      <td>322</td>\n",
       "      <td>Swimming with Sharks (1995)</td>\n",
       "      <td>Comedy|Drama</td>\n",
       "      <td>39553</td>\n",
       "    </tr>\n",
       "    <tr>\n",
       "      <th>296</th>\n",
       "      <td>300</td>\n",
       "      <td>Quiz Show (1994)</td>\n",
       "      <td>Drama</td>\n",
       "      <td>32169</td>\n",
       "    </tr>\n",
       "    <tr>\n",
       "      <th>356</th>\n",
       "      <td>361</td>\n",
       "      <td>It Could Happen to You (1994)</td>\n",
       "      <td>Comedy|Drama|Romance</td>\n",
       "      <td>25918</td>\n",
       "    </tr>\n",
       "    <tr>\n",
       "      <th>260</th>\n",
       "      <td>263</td>\n",
       "      <td>Ladybird Ladybird (1994)</td>\n",
       "      <td>Drama</td>\n",
       "      <td>25804</td>\n",
       "    </tr>\n",
       "    <tr>\n",
       "      <th>2571</th>\n",
       "      <td>2663</td>\n",
       "      <td>It Came from Beneath the Sea (1955)</td>\n",
       "      <td>Sci-Fi</td>\n",
       "      <td>25482</td>\n",
       "    </tr>\n",
       "    <tr>\n",
       "      <th>527</th>\n",
       "      <td>532</td>\n",
       "      <td>Serial Mom (1994)</td>\n",
       "      <td>Comedy|Crime|Horror</td>\n",
       "      <td>24853</td>\n",
       "    </tr>\n",
       "    <tr>\n",
       "      <th>593</th>\n",
       "      <td>601</td>\n",
       "      <td>Wooden Man's Bride, The (Yan shen) (1994)</td>\n",
       "      <td>Drama</td>\n",
       "      <td>24801</td>\n",
       "    </tr>\n",
       "    <tr>\n",
       "      <th>858</th>\n",
       "      <td>877</td>\n",
       "      <td>Girls Town (1996)</td>\n",
       "      <td>Comedy|Drama</td>\n",
       "      <td>24418</td>\n",
       "    </tr>\n",
       "    <tr>\n",
       "      <th>50</th>\n",
       "      <td>51</td>\n",
       "      <td>Guardian Angel (1994)</td>\n",
       "      <td>Action|Drama|Thriller</td>\n",
       "      <td>21585</td>\n",
       "    </tr>\n",
       "    <tr>\n",
       "      <th>2959</th>\n",
       "      <td>3052</td>\n",
       "      <td>Dogma (1999)</td>\n",
       "      <td>Adventure|Comedy|Fantasy</td>\n",
       "      <td>21486</td>\n",
       "    </tr>\n",
       "  </tbody>\n",
       "</table>\n",
       "</div>"
      ],
      "text/plain": [
       "      movieId                                      title  \\\n",
       "318       322                Swimming with Sharks (1995)   \n",
       "296       300                           Quiz Show (1994)   \n",
       "356       361              It Could Happen to You (1994)   \n",
       "260       263                   Ladybird Ladybird (1994)   \n",
       "2571     2663        It Came from Beneath the Sea (1955)   \n",
       "527       532                          Serial Mom (1994)   \n",
       "593       601  Wooden Man's Bride, The (Yan shen) (1994)   \n",
       "858       877                          Girls Town (1996)   \n",
       "50         51                      Guardian Angel (1994)   \n",
       "2959     3052                               Dogma (1999)   \n",
       "\n",
       "                        genres  count_rating_5  \n",
       "318               Comedy|Drama           39553  \n",
       "296                      Drama           32169  \n",
       "356       Comedy|Drama|Romance           25918  \n",
       "260                      Drama           25804  \n",
       "2571                    Sci-Fi           25482  \n",
       "527        Comedy|Crime|Horror           24853  \n",
       "593                      Drama           24801  \n",
       "858               Comedy|Drama           24418  \n",
       "50       Action|Drama|Thriller           21585  \n",
       "2959  Adventure|Comedy|Fantasy           21486  "
      ]
     },
     "execution_count": 53,
     "metadata": {},
     "output_type": "execute_result"
    }
   ],
   "source": [
    "ratingfilm.sort_values(by = 'count_rating_5', ascending = False).head(10)"
   ]
  },
  {
   "cell_type": "markdown",
   "metadata": {},
   "source": [
    "Задание 2\n",
    "По данным файла power.csv посчитайте суммарное потребление стран Прибалтики (Латвия, Литва и Эстония) категорий 4, 12 и 21 за период с 2005 по 2010 года. Не учитывайте в расчетах отрицательные значения quantity."
   ]
  },
  {
   "cell_type": "code",
   "execution_count": 75,
   "metadata": {},
   "outputs": [],
   "source": [
    "country = pd.read_csv('power.csv')\n",
    "#balt.head()"
   ]
  },
  {
   "cell_type": "code",
   "execution_count": 77,
   "metadata": {},
   "outputs": [
    {
     "name": "stderr",
     "output_type": "stream",
     "text": [
      "<ipython-input-77-4b0c424d297f>:1: UserWarning: Boolean Series key will be reindexed to match DataFrame index.\n",
      "  balt = country[country.quantity > 0][country.year >= 2005][country.year <=2010][country.category.isin(['4', '12', '21'])][country.country.isin(['Latvia','Lithuania','Estonia'])]\n",
      "<ipython-input-77-4b0c424d297f>:1: UserWarning: Boolean Series key will be reindexed to match DataFrame index.\n",
      "  balt = country[country.quantity > 0][country.year >= 2005][country.year <=2010][country.category.isin(['4', '12', '21'])][country.country.isin(['Latvia','Lithuania','Estonia'])]\n"
     ]
    }
   ],
   "source": [
    "balt = country[country.quantity > 0][country.year >= 2005][country.year <=2010][country.category.isin(['4', '12', '21'])][country.country.isin(['Latvia','Lithuania','Estonia'])]"
   ]
  },
  {
   "cell_type": "code",
   "execution_count": 80,
   "metadata": {},
   "outputs": [
    {
     "data": {
      "text/plain": [
       "240580.0"
      ]
     },
     "execution_count": 80,
     "metadata": {},
     "output_type": "execute_result"
    }
   ],
   "source": [
    "balt['quantity'].sum()"
   ]
  },
  {
   "cell_type": "markdown",
   "metadata": {},
   "source": [
    "Задание 3\n",
    "Выберите страницу любого сайта с табличными данными. Импортируйте таблицы в pandas dataframe.\n",
    "Примеры страниц (необязательно брать именно эти):\n",
    "https://fortrader.org/quotes\n",
    "https://www.finanz.ru/valyuty/v-realnom-vremeni"
   ]
  },
  {
   "cell_type": "code",
   "execution_count": 116,
   "metadata": {},
   "outputs": [
    {
     "name": "stdout",
     "output_type": "stream",
     "text": [
      "[    Unnamed: 0              Рубль  Предложение  Спрос  Предыдущее закрытие  \\\n",
      "0          NaN            GBP/RUB      1055494      -              1055494   \n",
      "1          NaN            EUR/RUB       899455      -               899778   \n",
      "2          NaN            USD/RUB       763026      -               763000   \n",
      "3          NaN            JPY/RUB        06892      -                06891   \n",
      "4          NaN            CNY/RUB       116182      -               116182   \n",
      "5          NaN            CHF/RUB       809603      -               809405   \n",
      "6          NaN               Евро  Предложение  Спрос  Предыдущее закрытие   \n",
      "7          NaN            EUR/USD        11765      -                11779   \n",
      "8          NaN            EUR/GBP        08506      -                08517   \n",
      "9          NaN            EUR/JPY      1301650      -              1301800   \n",
      "10         NaN            EUR/CHF        11087      -                11093   \n",
      "11         NaN         Доллар США  Предложение  Спрос  Предыдущее закрытие   \n",
      "12         NaN            USD/EUR        08500      -                08500   \n",
      "13         NaN            USD/GBP        07229      -                07229   \n",
      "14         NaN            USD/JPY      1107050      -              1106030   \n",
      "15         NaN            USD/CHF        09425      -                09427   \n",
      "16         NaN      Японская иена  Предложение  Спрос  Предыдущее закрытие   \n",
      "17         NaN    JPY/EUR (100:1)        07700      -                07700   \n",
      "18         NaN            JPY/GBP        00065      -                00065   \n",
      "19         NaN            JPY/USD        00090      -                00090   \n",
      "20         NaN    JPY/CHF (100:1)        08500      -                08500   \n",
      "21         NaN    Фунт стерлингов  Предложение  Спрос  Предыдущее закрытие   \n",
      "22         NaN            GBP/USD        13833      -                13832   \n",
      "23         NaN            GBP/JPY      1531382      -              1531659   \n",
      "24         NaN            GBP/EUR        11758      -                11744   \n",
      "25         NaN            GBP/CHF        13034      -                13027   \n",
      "26         NaN  Швейцарский франк  Предложение  Спрос  Предыдущее закрытие   \n",
      "27         NaN            GBP/CHF        13034      -                13027   \n",
      "28         NaN            EUR/CHF        11087      -                11093   \n",
      "29         NaN    JPY/CHF (100:1)        08500      -                08500   \n",
      "30         NaN            USD/CHF        09425      -                09427   \n",
      "31         NaN  Украинская гривна  Предложение  Спрос  Предыдущее закрытие   \n",
      "32         NaN            EUR/UAH       329995      -               327759   \n",
      "33         NaN            USD/UAH       280500      -               278600   \n",
      "34         NaN            CHF/UAH       297624      -               295534   \n",
      "35         NaN            GBP/UAH       388016      -               385387   \n",
      "\n",
      "          %  Абсолютное значение       Время  \n",
      "0    0,00 %                00000    06:05:00  \n",
      "1   -0,04 %               -00323  02.04.2021  \n",
      "2    0,00 %                00026    00:04:00  \n",
      "3    0,02 %                00001    06:05:00  \n",
      "4    0,00 %                00000    06:05:00  \n",
      "5    0,02 %                00198    06:05:00  \n",
      "6         %  Абсолютное значение       Время  \n",
      "7   -0,12 %               -00014    00:08:00  \n",
      "8   -0,13 %               -00011    00:09:00  \n",
      "9   -0,01 %               -00150    05:57:00  \n",
      "10  -0,05 %               -00006    00:00:00  \n",
      "11        %  Абсолютное значение       Время  \n",
      "12   0,00 %                00000    06:05:00  \n",
      "13   0,00 %                00000    06:05:00  \n",
      "14   0,09 %                01020    00:05:00  \n",
      "15  -0,02 %               -00002    05:57:00  \n",
      "16        %  Абсолютное значение       Время  \n",
      "17   0,02 %                00000    06:05:00  \n",
      "18   0,02 %                00000    06:05:00  \n",
      "19   0,02 %                00000    06:05:00  \n",
      "20  -0,01 %                00000    01:00:00  \n",
      "21        %  Абсолютное значение       Время  \n",
      "22   0,01 %                00001    00:09:00  \n",
      "23  -0,02 %               -00277    06:05:00  \n",
      "24   0,12 %                00014    00:09:00  \n",
      "25   0,05 %                00007    00:10:00  \n",
      "26        %  Абсолютное значение       Время  \n",
      "27   0,05 %                00007    00:10:00  \n",
      "28  -0,05 %               -00006    00:00:00  \n",
      "29  -0,01 %                00000    01:00:00  \n",
      "30  -0,02 %               -00002    05:57:00  \n",
      "31        %  Абсолютное значение       Время  \n",
      "32   0,68 %                02236    06:05:00  \n",
      "33   0,68 %                01900    06:05:00  \n",
      "34   0,71 %                02090    06:05:00  \n",
      "35   0,68 %                02629    06:05:00  ]\n"
     ]
    }
   ],
   "source": [
    "table = pd.read_html('https://www.finanz.ru/valyuty/v-realnom-vremeni', attrs = {'class':'quote_list'}, encoding = 'utf-8', match ='Рубль')\n",
    "print(table)"
   ]
  },
  {
   "cell_type": "code",
   "execution_count": null,
   "metadata": {},
   "outputs": [],
   "source": []
  }
 ],
 "metadata": {
  "kernelspec": {
   "display_name": "Python 3",
   "language": "python",
   "name": "python3"
  },
  "language_info": {
   "codemirror_mode": {
    "name": "ipython",
    "version": 3
   },
   "file_extension": ".py",
   "mimetype": "text/x-python",
   "name": "python",
   "nbconvert_exporter": "python",
   "pygments_lexer": "ipython3",
   "version": "3.8.5"
  }
 },
 "nbformat": 4,
 "nbformat_minor": 4
}
